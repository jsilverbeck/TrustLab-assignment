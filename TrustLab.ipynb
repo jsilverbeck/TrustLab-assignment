{
 "cells": [
  {
   "cell_type": "markdown",
   "metadata": {},
   "source": [
    "**Assignment - Josh Silverbeck**\n",
    "\n",
    "*Goal:* to predict adherence to lockdown rules (as measured by a combination of stringency and use of public transport), based off social media posts"
   ]
  },
  {
   "cell_type": "code",
   "execution_count": 53,
   "metadata": {
    "collapsed": false,
    "jupyter": {
     "outputs_hidden": false
    }
   },
   "outputs": [],
   "source": [
    "# Import packages\n",
    "\n",
    "import pandas as pd\n",
    "import numpy as np\n",
    "from datetime import datetime\n",
    "import matplotlib.pyplot as plt\n",
    "import seaborn as sns\n",
    "from xgboost import XGBClassifier\n",
    "from sklearn.linear_model import LogisticRegression\n",
    "from sklearn.neural_network import MLPClassifier\n",
    "from sklearn.neighbors import KNeighborsClassifier\n",
    "from sklearn.ensemble import RandomForestClassifier\n",
    "from sklearn import metrics\n",
    "from sklearn.model_selection import GridSearchCV, KFold\n",
    "from sklearn.inspection import permutation_importance\n",
    "import warnings"
   ]
  },
  {
   "cell_type": "code",
   "execution_count": 54,
   "metadata": {
    "collapsed": false,
    "jupyter": {
     "outputs_hidden": false
    }
   },
   "outputs": [],
   "source": [
    "warnings.filterwarnings('ignore')"
   ]
  },
  {
   "cell_type": "code",
   "execution_count": 55,
   "metadata": {
    "collapsed": false,
    "jupyter": {
     "outputs_hidden": false
    }
   },
   "outputs": [
    {
     "name": "stdout",
     "output_type": "stream",
     "text": [
      "Now processing chunk 1\n",
      "Now processing chunk 2\n",
      "Now processing chunk 3\n",
      "Now processing chunk 4\n",
      "Now processing chunk 5\n",
      "Now processing chunk 6\n",
      "Now processing chunk 7\n",
      "Now processing chunk 8\n",
      "Now processing chunk 9\n",
      "Dataframe dimensions: (271342, 23)\n"
     ]
    },
    {
     "data": {
      "text/html": [
       "<div>\n",
       "<style scoped>\n",
       "    .dataframe tbody tr th:only-of-type {\n",
       "        vertical-align: middle;\n",
       "    }\n",
       "\n",
       "    .dataframe tbody tr th {\n",
       "        vertical-align: top;\n",
       "    }\n",
       "\n",
       "    .dataframe thead th {\n",
       "        text-align: right;\n",
       "    }\n",
       "</style>\n",
       "<table border=\"1\" class=\"dataframe\">\n",
       "  <thead>\n",
       "    <tr style=\"text-align: right;\">\n",
       "      <th></th>\n",
       "      <th>full_text</th>\n",
       "      <th>text_translation</th>\n",
       "      <th>created_at</th>\n",
       "      <th>screen_name</th>\n",
       "      <th>description</th>\n",
       "      <th>desc_translation</th>\n",
       "      <th>weekofyear</th>\n",
       "      <th>weekday</th>\n",
       "      <th>day</th>\n",
       "      <th>month</th>\n",
       "      <th>year</th>\n",
       "      <th>location</th>\n",
       "      <th>point_info</th>\n",
       "      <th>point</th>\n",
       "      <th>latitude</th>\n",
       "      <th>longitude</th>\n",
       "      <th>altitude</th>\n",
       "      <th>province</th>\n",
       "      <th>hisco_standard</th>\n",
       "      <th>hisco_code</th>\n",
       "      <th>industry</th>\n",
       "      <th>sentiment_pattern</th>\n",
       "      <th>subjective_pattern</th>\n",
       "    </tr>\n",
       "  </thead>\n",
       "  <tbody>\n",
       "    <tr>\n",
       "      <th>0</th>\n",
       "      <td>@pflegearzt @Friedelkorn @LAguja44 Pardon, wol...</td>\n",
       "      <td>@pflegearzt @Friedelkorn @ LAguja44 Pardon wol...</td>\n",
       "      <td>2020-03-09 12:26:29</td>\n",
       "      <td>TheoRettich</td>\n",
       "      <td>I ❤️science, therefore a Commie.   ☭ FALGSC: P...</td>\n",
       "      <td>I ❤️science, Therefore a Commie. ☭ FALGSC: Par...</td>\n",
       "      <td>11.0</td>\n",
       "      <td>0.0</td>\n",
       "      <td>9.0</td>\n",
       "      <td>3.0</td>\n",
       "      <td>2020.0</td>\n",
       "      <td>Netherlands</td>\n",
       "      <td>Nederland</td>\n",
       "      <td>(52.5001698, 5.7480821, 0.0)</td>\n",
       "      <td>52.50017</td>\n",
       "      <td>5.748082</td>\n",
       "      <td>0.0</td>\n",
       "      <td>Flevoland</td>\n",
       "      <td>None</td>\n",
       "      <td>None</td>\n",
       "      <td>False</td>\n",
       "      <td>0.0</td>\n",
       "      <td>0.0</td>\n",
       "    </tr>\n",
       "    <tr>\n",
       "      <th>1</th>\n",
       "      <td>RT @grantshapps: Aviation demand is reduced du...</td>\n",
       "      <td>RT @grantshapps: Aviation demand is reduced du...</td>\n",
       "      <td>2020-03-09 12:26:34</td>\n",
       "      <td>davidiwanow</td>\n",
       "      <td>I tweet a lot but love to engage &amp; converse. P...</td>\n",
       "      <td>I tweet a lot but love to engage and converse....</td>\n",
       "      <td>11.0</td>\n",
       "      <td>0.0</td>\n",
       "      <td>9.0</td>\n",
       "      <td>3.0</td>\n",
       "      <td>2020.0</td>\n",
       "      <td>Amsterdam, The Netherlands</td>\n",
       "      <td>Amsterdam, Noord-Holland, Nederland</td>\n",
       "      <td>(52.3727598, 4.8936041, 0.0)</td>\n",
       "      <td>52.37276</td>\n",
       "      <td>4.893604</td>\n",
       "      <td>0.0</td>\n",
       "      <td>Noord-Holland</td>\n",
       "      <td>None</td>\n",
       "      <td>None</td>\n",
       "      <td>False</td>\n",
       "      <td>0.0</td>\n",
       "      <td>0.0</td>\n",
       "    </tr>\n",
       "    <tr>\n",
       "      <th>2</th>\n",
       "      <td>RT @DDStandaard: De droom van D66 wordt werkel...</td>\n",
       "      <td>RT @DDStandaard: The D66 dream come true: COVI...</td>\n",
       "      <td>2020-03-09 12:26:37</td>\n",
       "      <td>EricL65</td>\n",
       "      <td>None</td>\n",
       "      <td>None</td>\n",
       "      <td>11.0</td>\n",
       "      <td>0.0</td>\n",
       "      <td>9.0</td>\n",
       "      <td>3.0</td>\n",
       "      <td>2020.0</td>\n",
       "      <td>None</td>\n",
       "      <td>None</td>\n",
       "      <td>None</td>\n",
       "      <td>NaN</td>\n",
       "      <td>NaN</td>\n",
       "      <td>0.0</td>\n",
       "      <td>False</td>\n",
       "      <td>None</td>\n",
       "      <td>None</td>\n",
       "      <td>False</td>\n",
       "      <td>0.0</td>\n",
       "      <td>0.0</td>\n",
       "    </tr>\n",
       "    <tr>\n",
       "      <th>3</th>\n",
       "      <td>RT @DDStandaard: De droom van D66 wordt werkel...</td>\n",
       "      <td>RT @DDStandaard: The D66 dream come true: COVI...</td>\n",
       "      <td>2020-03-09 12:26:37</td>\n",
       "      <td>EricL65</td>\n",
       "      <td>None</td>\n",
       "      <td>None</td>\n",
       "      <td>11.0</td>\n",
       "      <td>0.0</td>\n",
       "      <td>9.0</td>\n",
       "      <td>3.0</td>\n",
       "      <td>2020.0</td>\n",
       "      <td>None</td>\n",
       "      <td>None</td>\n",
       "      <td>None</td>\n",
       "      <td>NaN</td>\n",
       "      <td>NaN</td>\n",
       "      <td>0.0</td>\n",
       "      <td>False</td>\n",
       "      <td>None</td>\n",
       "      <td>None</td>\n",
       "      <td>False</td>\n",
       "      <td>0.0</td>\n",
       "      <td>0.0</td>\n",
       "    </tr>\n",
       "    <tr>\n",
       "      <th>4</th>\n",
       "      <td>De droom van D66 wordt werkelijkheid: COVID-19...</td>\n",
       "      <td>The D66 dream becomes reality: COVID-19 super ...</td>\n",
       "      <td>2020-03-09 12:26:47</td>\n",
       "      <td>EhrErwin</td>\n",
       "      <td>Budget-Life Coach. Time management Coaching. b...</td>\n",
       "      <td>Budget-Life Coach. Time management coaching. h...</td>\n",
       "      <td>11.0</td>\n",
       "      <td>0.0</td>\n",
       "      <td>9.0</td>\n",
       "      <td>3.0</td>\n",
       "      <td>2020.0</td>\n",
       "      <td>Amsterdam</td>\n",
       "      <td>Amsterdam, Noord-Holland, Nederland</td>\n",
       "      <td>(52.3727598, 4.8936041, 0.0)</td>\n",
       "      <td>52.37276</td>\n",
       "      <td>4.893604</td>\n",
       "      <td>0.0</td>\n",
       "      <td>Noord-Holland</td>\n",
       "      <td>None</td>\n",
       "      <td>None</td>\n",
       "      <td>False</td>\n",
       "      <td>0.0</td>\n",
       "      <td>0.0</td>\n",
       "    </tr>\n",
       "  </tbody>\n",
       "</table>\n",
       "</div>"
      ],
      "text/plain": [
       "                                           full_text  ... subjective_pattern\n",
       "0  @pflegearzt @Friedelkorn @LAguja44 Pardon, wol...  ...                0.0\n",
       "1  RT @grantshapps: Aviation demand is reduced du...  ...                0.0\n",
       "2  RT @DDStandaard: De droom van D66 wordt werkel...  ...                0.0\n",
       "3  RT @DDStandaard: De droom van D66 wordt werkel...  ...                0.0\n",
       "4  De droom van D66 wordt werkelijkheid: COVID-19...  ...                0.0\n",
       "\n",
       "[5 rows x 23 columns]"
      ]
     },
     "execution_count": 55,
     "metadata": {},
     "output_type": "execute_result"
    }
   ],
   "source": [
    "# Load data\n",
    "\n",
    "# The social media data comes from 10 Kaggle files, saved as jsons\n",
    "\n",
    "df = pd.read_json('dutch_tweets_chunk0.json.zip')\n",
    "\n",
    "for i in range(1, 10):\n",
    "    print('Now processing chunk ' + str(i))\n",
    "\n",
    "    chunk = pd.read_json('dutch_tweets_chunk' + str(i) + '.json.zip')\n",
    "    frames = [df, chunk]\n",
    "\n",
    "    df = pd.concat(frames)\n",
    "\n",
    "print('Dataframe dimensions: ' + str(df.shape))\n",
    "df.head()"
   ]
  },
  {
   "cell_type": "code",
   "execution_count": 56,
   "metadata": {
    "collapsed": false,
    "jupyter": {
     "outputs_hidden": false
    }
   },
   "outputs": [],
   "source": [
    "# Create column with the day of the tweet in format YYYYMMDD\n",
    "\n",
    "df['date'] = pd.to_datetime(df[['year', 'month', 'day']])\n",
    "earliest_date = min(df['date'])\n",
    "latest_date = max(df['date'])"
   ]
  },
  {
   "cell_type": "code",
   "execution_count": 57,
   "metadata": {
    "collapsed": false,
    "jupyter": {
     "outputs_hidden": false
    }
   },
   "outputs": [
    {
     "name": "stdout",
     "output_type": "stream",
     "text": [
      "Mobility dataframe dimensions: (222, 4)\n"
     ]
    },
    {
     "data": {
      "text/html": [
       "<div>\n",
       "<style scoped>\n",
       "    .dataframe tbody tr th:only-of-type {\n",
       "        vertical-align: middle;\n",
       "    }\n",
       "\n",
       "    .dataframe tbody tr th {\n",
       "        vertical-align: top;\n",
       "    }\n",
       "\n",
       "    .dataframe thead th {\n",
       "        text-align: right;\n",
       "    }\n",
       "</style>\n",
       "<table border=\"1\" class=\"dataframe\">\n",
       "  <thead>\n",
       "    <tr style=\"text-align: right;\">\n",
       "      <th></th>\n",
       "      <th>Entity</th>\n",
       "      <th>Code</th>\n",
       "      <th>Day</th>\n",
       "      <th>transit_stations</th>\n",
       "    </tr>\n",
       "  </thead>\n",
       "  <tbody>\n",
       "    <tr>\n",
       "      <th>78214</th>\n",
       "      <td>Netherlands</td>\n",
       "      <td>NLD</td>\n",
       "      <td>2020-02-17</td>\n",
       "      <td>-1.667</td>\n",
       "    </tr>\n",
       "    <tr>\n",
       "      <th>78215</th>\n",
       "      <td>Netherlands</td>\n",
       "      <td>NLD</td>\n",
       "      <td>2020-02-18</td>\n",
       "      <td>-2.000</td>\n",
       "    </tr>\n",
       "    <tr>\n",
       "      <th>78216</th>\n",
       "      <td>Netherlands</td>\n",
       "      <td>NLD</td>\n",
       "      <td>2020-02-19</td>\n",
       "      <td>-2.200</td>\n",
       "    </tr>\n",
       "    <tr>\n",
       "      <th>78217</th>\n",
       "      <td>Netherlands</td>\n",
       "      <td>NLD</td>\n",
       "      <td>2020-02-20</td>\n",
       "      <td>-2.333</td>\n",
       "    </tr>\n",
       "    <tr>\n",
       "      <th>78218</th>\n",
       "      <td>Netherlands</td>\n",
       "      <td>NLD</td>\n",
       "      <td>2020-02-21</td>\n",
       "      <td>-1.857</td>\n",
       "    </tr>\n",
       "  </tbody>\n",
       "</table>\n",
       "</div>"
      ],
      "text/plain": [
       "            Entity Code        Day  transit_stations\n",
       "78214  Netherlands  NLD 2020-02-17            -1.667\n",
       "78215  Netherlands  NLD 2020-02-18            -2.000\n",
       "78216  Netherlands  NLD 2020-02-19            -2.200\n",
       "78217  Netherlands  NLD 2020-02-20            -2.333\n",
       "78218  Netherlands  NLD 2020-02-21            -1.857"
      ]
     },
     "execution_count": 57,
     "metadata": {},
     "output_type": "execute_result"
    }
   ],
   "source": [
    "# The other data is downloaded from Our World In Data\n",
    "\n",
    "# Mobility data\n",
    "mobility = pd.read_csv('visitors-transit-covid.csv')\n",
    "mobility = mobility[mobility['Entity'] == 'Netherlands'] # filter to Netherlands\n",
    "mobility['Day'] = pd.to_datetime(mobility['Day'])\n",
    "mobility = mobility[(mobility['Day'] >= earliest_date) & (mobility['Day'] <= latest_date)] # filter to relevant days\n",
    "print('Mobility dataframe dimensions: ' + str(mobility.shape))\n",
    "mobility.head()"
   ]
  },
  {
   "cell_type": "code",
   "execution_count": 58,
   "metadata": {
    "collapsed": false,
    "jupyter": {
     "outputs_hidden": false
    }
   },
   "outputs": [
    {
     "name": "stdout",
     "output_type": "stream",
     "text": [
      "Stringency dataframe dimensions: (212, 67)\n"
     ]
    },
    {
     "data": {
      "text/html": [
       "<div>\n",
       "<style scoped>\n",
       "    .dataframe tbody tr th:only-of-type {\n",
       "        vertical-align: middle;\n",
       "    }\n",
       "\n",
       "    .dataframe tbody tr th {\n",
       "        vertical-align: top;\n",
       "    }\n",
       "\n",
       "    .dataframe thead th {\n",
       "        text-align: right;\n",
       "    }\n",
       "</style>\n",
       "<table border=\"1\" class=\"dataframe\">\n",
       "  <thead>\n",
       "    <tr style=\"text-align: right;\">\n",
       "      <th></th>\n",
       "      <th>iso_code</th>\n",
       "      <th>continent</th>\n",
       "      <th>location</th>\n",
       "      <th>date</th>\n",
       "      <th>total_cases</th>\n",
       "      <th>new_cases</th>\n",
       "      <th>new_cases_smoothed</th>\n",
       "      <th>total_deaths</th>\n",
       "      <th>new_deaths</th>\n",
       "      <th>new_deaths_smoothed</th>\n",
       "      <th>total_cases_per_million</th>\n",
       "      <th>new_cases_per_million</th>\n",
       "      <th>new_cases_smoothed_per_million</th>\n",
       "      <th>total_deaths_per_million</th>\n",
       "      <th>new_deaths_per_million</th>\n",
       "      <th>new_deaths_smoothed_per_million</th>\n",
       "      <th>reproduction_rate</th>\n",
       "      <th>icu_patients</th>\n",
       "      <th>icu_patients_per_million</th>\n",
       "      <th>hosp_patients</th>\n",
       "      <th>hosp_patients_per_million</th>\n",
       "      <th>weekly_icu_admissions</th>\n",
       "      <th>weekly_icu_admissions_per_million</th>\n",
       "      <th>weekly_hosp_admissions</th>\n",
       "      <th>weekly_hosp_admissions_per_million</th>\n",
       "      <th>total_tests</th>\n",
       "      <th>new_tests</th>\n",
       "      <th>total_tests_per_thousand</th>\n",
       "      <th>new_tests_per_thousand</th>\n",
       "      <th>new_tests_smoothed</th>\n",
       "      <th>new_tests_smoothed_per_thousand</th>\n",
       "      <th>positive_rate</th>\n",
       "      <th>tests_per_case</th>\n",
       "      <th>tests_units</th>\n",
       "      <th>total_vaccinations</th>\n",
       "      <th>people_vaccinated</th>\n",
       "      <th>people_fully_vaccinated</th>\n",
       "      <th>total_boosters</th>\n",
       "      <th>new_vaccinations</th>\n",
       "      <th>new_vaccinations_smoothed</th>\n",
       "      <th>total_vaccinations_per_hundred</th>\n",
       "      <th>people_vaccinated_per_hundred</th>\n",
       "      <th>people_fully_vaccinated_per_hundred</th>\n",
       "      <th>total_boosters_per_hundred</th>\n",
       "      <th>new_vaccinations_smoothed_per_million</th>\n",
       "      <th>new_people_vaccinated_smoothed</th>\n",
       "      <th>new_people_vaccinated_smoothed_per_hundred</th>\n",
       "      <th>stringency_index</th>\n",
       "      <th>population_density</th>\n",
       "      <th>median_age</th>\n",
       "      <th>aged_65_older</th>\n",
       "      <th>aged_70_older</th>\n",
       "      <th>gdp_per_capita</th>\n",
       "      <th>extreme_poverty</th>\n",
       "      <th>cardiovasc_death_rate</th>\n",
       "      <th>diabetes_prevalence</th>\n",
       "      <th>female_smokers</th>\n",
       "      <th>male_smokers</th>\n",
       "      <th>handwashing_facilities</th>\n",
       "      <th>hospital_beds_per_thousand</th>\n",
       "      <th>life_expectancy</th>\n",
       "      <th>human_development_index</th>\n",
       "      <th>population</th>\n",
       "      <th>excess_mortality_cumulative_absolute</th>\n",
       "      <th>excess_mortality_cumulative</th>\n",
       "      <th>excess_mortality</th>\n",
       "      <th>excess_mortality_cumulative_per_million</th>\n",
       "    </tr>\n",
       "  </thead>\n",
       "  <tbody>\n",
       "    <tr>\n",
       "      <th>151431</th>\n",
       "      <td>NLD</td>\n",
       "      <td>Europe</td>\n",
       "      <td>Netherlands</td>\n",
       "      <td>2020-02-27</td>\n",
       "      <td>1.0</td>\n",
       "      <td>1.0</td>\n",
       "      <td>NaN</td>\n",
       "      <td>NaN</td>\n",
       "      <td>NaN</td>\n",
       "      <td>NaN</td>\n",
       "      <td>0.057</td>\n",
       "      <td>0.057</td>\n",
       "      <td>NaN</td>\n",
       "      <td>NaN</td>\n",
       "      <td>NaN</td>\n",
       "      <td>NaN</td>\n",
       "      <td>NaN</td>\n",
       "      <td>7.0</td>\n",
       "      <td>0.399</td>\n",
       "      <td>1.0</td>\n",
       "      <td>0.057</td>\n",
       "      <td>NaN</td>\n",
       "      <td>NaN</td>\n",
       "      <td>NaN</td>\n",
       "      <td>NaN</td>\n",
       "      <td>NaN</td>\n",
       "      <td>NaN</td>\n",
       "      <td>NaN</td>\n",
       "      <td>NaN</td>\n",
       "      <td>NaN</td>\n",
       "      <td>NaN</td>\n",
       "      <td>NaN</td>\n",
       "      <td>NaN</td>\n",
       "      <td>NaN</td>\n",
       "      <td>NaN</td>\n",
       "      <td>NaN</td>\n",
       "      <td>NaN</td>\n",
       "      <td>NaN</td>\n",
       "      <td>NaN</td>\n",
       "      <td>NaN</td>\n",
       "      <td>NaN</td>\n",
       "      <td>NaN</td>\n",
       "      <td>NaN</td>\n",
       "      <td>NaN</td>\n",
       "      <td>NaN</td>\n",
       "      <td>NaN</td>\n",
       "      <td>NaN</td>\n",
       "      <td>5.56</td>\n",
       "      <td>508.544</td>\n",
       "      <td>43.2</td>\n",
       "      <td>18.779</td>\n",
       "      <td>11.881</td>\n",
       "      <td>48472.545</td>\n",
       "      <td>NaN</td>\n",
       "      <td>109.361</td>\n",
       "      <td>5.29</td>\n",
       "      <td>24.4</td>\n",
       "      <td>27.3</td>\n",
       "      <td>NaN</td>\n",
       "      <td>3.32</td>\n",
       "      <td>82.28</td>\n",
       "      <td>0.944</td>\n",
       "      <td>17564020.0</td>\n",
       "      <td>NaN</td>\n",
       "      <td>NaN</td>\n",
       "      <td>NaN</td>\n",
       "      <td>NaN</td>\n",
       "    </tr>\n",
       "    <tr>\n",
       "      <th>151432</th>\n",
       "      <td>NLD</td>\n",
       "      <td>Europe</td>\n",
       "      <td>Netherlands</td>\n",
       "      <td>2020-02-28</td>\n",
       "      <td>6.0</td>\n",
       "      <td>5.0</td>\n",
       "      <td>NaN</td>\n",
       "      <td>NaN</td>\n",
       "      <td>NaN</td>\n",
       "      <td>NaN</td>\n",
       "      <td>0.342</td>\n",
       "      <td>0.285</td>\n",
       "      <td>NaN</td>\n",
       "      <td>NaN</td>\n",
       "      <td>NaN</td>\n",
       "      <td>NaN</td>\n",
       "      <td>NaN</td>\n",
       "      <td>8.0</td>\n",
       "      <td>0.455</td>\n",
       "      <td>9.0</td>\n",
       "      <td>0.512</td>\n",
       "      <td>NaN</td>\n",
       "      <td>NaN</td>\n",
       "      <td>NaN</td>\n",
       "      <td>NaN</td>\n",
       "      <td>NaN</td>\n",
       "      <td>NaN</td>\n",
       "      <td>NaN</td>\n",
       "      <td>NaN</td>\n",
       "      <td>NaN</td>\n",
       "      <td>NaN</td>\n",
       "      <td>NaN</td>\n",
       "      <td>NaN</td>\n",
       "      <td>NaN</td>\n",
       "      <td>NaN</td>\n",
       "      <td>NaN</td>\n",
       "      <td>NaN</td>\n",
       "      <td>NaN</td>\n",
       "      <td>NaN</td>\n",
       "      <td>NaN</td>\n",
       "      <td>NaN</td>\n",
       "      <td>NaN</td>\n",
       "      <td>NaN</td>\n",
       "      <td>NaN</td>\n",
       "      <td>NaN</td>\n",
       "      <td>NaN</td>\n",
       "      <td>NaN</td>\n",
       "      <td>5.56</td>\n",
       "      <td>508.544</td>\n",
       "      <td>43.2</td>\n",
       "      <td>18.779</td>\n",
       "      <td>11.881</td>\n",
       "      <td>48472.545</td>\n",
       "      <td>NaN</td>\n",
       "      <td>109.361</td>\n",
       "      <td>5.29</td>\n",
       "      <td>24.4</td>\n",
       "      <td>27.3</td>\n",
       "      <td>NaN</td>\n",
       "      <td>3.32</td>\n",
       "      <td>82.28</td>\n",
       "      <td>0.944</td>\n",
       "      <td>17564020.0</td>\n",
       "      <td>NaN</td>\n",
       "      <td>NaN</td>\n",
       "      <td>NaN</td>\n",
       "      <td>NaN</td>\n",
       "    </tr>\n",
       "    <tr>\n",
       "      <th>151433</th>\n",
       "      <td>NLD</td>\n",
       "      <td>Europe</td>\n",
       "      <td>Netherlands</td>\n",
       "      <td>2020-02-29</td>\n",
       "      <td>10.0</td>\n",
       "      <td>4.0</td>\n",
       "      <td>NaN</td>\n",
       "      <td>NaN</td>\n",
       "      <td>NaN</td>\n",
       "      <td>NaN</td>\n",
       "      <td>0.569</td>\n",
       "      <td>0.228</td>\n",
       "      <td>NaN</td>\n",
       "      <td>NaN</td>\n",
       "      <td>NaN</td>\n",
       "      <td>NaN</td>\n",
       "      <td>NaN</td>\n",
       "      <td>9.0</td>\n",
       "      <td>0.512</td>\n",
       "      <td>10.0</td>\n",
       "      <td>0.569</td>\n",
       "      <td>NaN</td>\n",
       "      <td>NaN</td>\n",
       "      <td>NaN</td>\n",
       "      <td>NaN</td>\n",
       "      <td>NaN</td>\n",
       "      <td>NaN</td>\n",
       "      <td>NaN</td>\n",
       "      <td>NaN</td>\n",
       "      <td>NaN</td>\n",
       "      <td>NaN</td>\n",
       "      <td>NaN</td>\n",
       "      <td>NaN</td>\n",
       "      <td>NaN</td>\n",
       "      <td>NaN</td>\n",
       "      <td>NaN</td>\n",
       "      <td>NaN</td>\n",
       "      <td>NaN</td>\n",
       "      <td>NaN</td>\n",
       "      <td>NaN</td>\n",
       "      <td>NaN</td>\n",
       "      <td>NaN</td>\n",
       "      <td>NaN</td>\n",
       "      <td>NaN</td>\n",
       "      <td>NaN</td>\n",
       "      <td>NaN</td>\n",
       "      <td>NaN</td>\n",
       "      <td>5.56</td>\n",
       "      <td>508.544</td>\n",
       "      <td>43.2</td>\n",
       "      <td>18.779</td>\n",
       "      <td>11.881</td>\n",
       "      <td>48472.545</td>\n",
       "      <td>NaN</td>\n",
       "      <td>109.361</td>\n",
       "      <td>5.29</td>\n",
       "      <td>24.4</td>\n",
       "      <td>27.3</td>\n",
       "      <td>NaN</td>\n",
       "      <td>3.32</td>\n",
       "      <td>82.28</td>\n",
       "      <td>0.944</td>\n",
       "      <td>17564020.0</td>\n",
       "      <td>NaN</td>\n",
       "      <td>NaN</td>\n",
       "      <td>NaN</td>\n",
       "      <td>NaN</td>\n",
       "    </tr>\n",
       "    <tr>\n",
       "      <th>151434</th>\n",
       "      <td>NLD</td>\n",
       "      <td>Europe</td>\n",
       "      <td>Netherlands</td>\n",
       "      <td>2020-03-01</td>\n",
       "      <td>18.0</td>\n",
       "      <td>8.0</td>\n",
       "      <td>NaN</td>\n",
       "      <td>NaN</td>\n",
       "      <td>NaN</td>\n",
       "      <td>NaN</td>\n",
       "      <td>1.025</td>\n",
       "      <td>0.455</td>\n",
       "      <td>NaN</td>\n",
       "      <td>NaN</td>\n",
       "      <td>NaN</td>\n",
       "      <td>NaN</td>\n",
       "      <td>NaN</td>\n",
       "      <td>11.0</td>\n",
       "      <td>0.626</td>\n",
       "      <td>20.0</td>\n",
       "      <td>1.139</td>\n",
       "      <td>NaN</td>\n",
       "      <td>NaN</td>\n",
       "      <td>NaN</td>\n",
       "      <td>NaN</td>\n",
       "      <td>NaN</td>\n",
       "      <td>NaN</td>\n",
       "      <td>NaN</td>\n",
       "      <td>NaN</td>\n",
       "      <td>NaN</td>\n",
       "      <td>NaN</td>\n",
       "      <td>NaN</td>\n",
       "      <td>NaN</td>\n",
       "      <td>NaN</td>\n",
       "      <td>NaN</td>\n",
       "      <td>NaN</td>\n",
       "      <td>NaN</td>\n",
       "      <td>NaN</td>\n",
       "      <td>NaN</td>\n",
       "      <td>NaN</td>\n",
       "      <td>NaN</td>\n",
       "      <td>NaN</td>\n",
       "      <td>NaN</td>\n",
       "      <td>NaN</td>\n",
       "      <td>NaN</td>\n",
       "      <td>NaN</td>\n",
       "      <td>NaN</td>\n",
       "      <td>5.56</td>\n",
       "      <td>508.544</td>\n",
       "      <td>43.2</td>\n",
       "      <td>18.779</td>\n",
       "      <td>11.881</td>\n",
       "      <td>48472.545</td>\n",
       "      <td>NaN</td>\n",
       "      <td>109.361</td>\n",
       "      <td>5.29</td>\n",
       "      <td>24.4</td>\n",
       "      <td>27.3</td>\n",
       "      <td>NaN</td>\n",
       "      <td>3.32</td>\n",
       "      <td>82.28</td>\n",
       "      <td>0.944</td>\n",
       "      <td>17564020.0</td>\n",
       "      <td>-2332.1</td>\n",
       "      <td>-7.62</td>\n",
       "      <td>-8.61</td>\n",
       "      <td>-132.77712</td>\n",
       "    </tr>\n",
       "    <tr>\n",
       "      <th>151435</th>\n",
       "      <td>NLD</td>\n",
       "      <td>Europe</td>\n",
       "      <td>Netherlands</td>\n",
       "      <td>2020-03-02</td>\n",
       "      <td>24.0</td>\n",
       "      <td>6.0</td>\n",
       "      <td>NaN</td>\n",
       "      <td>NaN</td>\n",
       "      <td>NaN</td>\n",
       "      <td>NaN</td>\n",
       "      <td>1.366</td>\n",
       "      <td>0.342</td>\n",
       "      <td>NaN</td>\n",
       "      <td>NaN</td>\n",
       "      <td>NaN</td>\n",
       "      <td>NaN</td>\n",
       "      <td>NaN</td>\n",
       "      <td>10.0</td>\n",
       "      <td>0.569</td>\n",
       "      <td>34.0</td>\n",
       "      <td>1.936</td>\n",
       "      <td>NaN</td>\n",
       "      <td>NaN</td>\n",
       "      <td>NaN</td>\n",
       "      <td>NaN</td>\n",
       "      <td>NaN</td>\n",
       "      <td>NaN</td>\n",
       "      <td>NaN</td>\n",
       "      <td>NaN</td>\n",
       "      <td>NaN</td>\n",
       "      <td>NaN</td>\n",
       "      <td>NaN</td>\n",
       "      <td>NaN</td>\n",
       "      <td>NaN</td>\n",
       "      <td>NaN</td>\n",
       "      <td>NaN</td>\n",
       "      <td>NaN</td>\n",
       "      <td>NaN</td>\n",
       "      <td>NaN</td>\n",
       "      <td>NaN</td>\n",
       "      <td>NaN</td>\n",
       "      <td>NaN</td>\n",
       "      <td>NaN</td>\n",
       "      <td>NaN</td>\n",
       "      <td>NaN</td>\n",
       "      <td>NaN</td>\n",
       "      <td>NaN</td>\n",
       "      <td>5.56</td>\n",
       "      <td>508.544</td>\n",
       "      <td>43.2</td>\n",
       "      <td>18.779</td>\n",
       "      <td>11.881</td>\n",
       "      <td>48472.545</td>\n",
       "      <td>NaN</td>\n",
       "      <td>109.361</td>\n",
       "      <td>5.29</td>\n",
       "      <td>24.4</td>\n",
       "      <td>27.3</td>\n",
       "      <td>NaN</td>\n",
       "      <td>3.32</td>\n",
       "      <td>82.28</td>\n",
       "      <td>0.944</td>\n",
       "      <td>17564020.0</td>\n",
       "      <td>NaN</td>\n",
       "      <td>NaN</td>\n",
       "      <td>NaN</td>\n",
       "      <td>NaN</td>\n",
       "    </tr>\n",
       "  </tbody>\n",
       "</table>\n",
       "</div>"
      ],
      "text/plain": [
       "       iso_code  ... excess_mortality_cumulative_per_million\n",
       "151431      NLD  ...                                     NaN\n",
       "151432      NLD  ...                                     NaN\n",
       "151433      NLD  ...                                     NaN\n",
       "151434      NLD  ...                              -132.77712\n",
       "151435      NLD  ...                                     NaN\n",
       "\n",
       "[5 rows x 67 columns]"
      ]
     },
     "execution_count": 58,
     "metadata": {},
     "output_type": "execute_result"
    }
   ],
   "source": [
    "# The other data is downloaded from Our World In Data\n",
    "\n",
    "# Mobility data\n",
    "stringency = pd.read_csv('owid-covid-data.csv')\n",
    "stringency = stringency[stringency['location'] == 'Netherlands'] # filter to Netherlands\n",
    "stringency['date'] = pd.to_datetime(stringency['date'])\n",
    "stringency = stringency[(stringency['date'] >= earliest_date) & (stringency['date'] <= latest_date)] # filter to relevant days\n",
    "print('Stringency dataframe dimensions: ' + str(stringency.shape))\n",
    "stringency.head()"
   ]
  },
  {
   "cell_type": "markdown",
   "metadata": {},
   "source": [
    "The stringency dataframe is missing the first few days of data, so we'll drop these days when merging."
   ]
  },
  {
   "cell_type": "code",
   "execution_count": 59,
   "metadata": {
    "collapsed": false,
    "jupyter": {
     "outputs_hidden": false
    }
   },
   "outputs": [
    {
     "data": {
      "text/html": [
       "<div>\n",
       "<style scoped>\n",
       "    .dataframe tbody tr th:only-of-type {\n",
       "        vertical-align: middle;\n",
       "    }\n",
       "\n",
       "    .dataframe tbody tr th {\n",
       "        vertical-align: top;\n",
       "    }\n",
       "\n",
       "    .dataframe thead th {\n",
       "        text-align: right;\n",
       "    }\n",
       "</style>\n",
       "<table border=\"1\" class=\"dataframe\">\n",
       "  <thead>\n",
       "    <tr style=\"text-align: right;\">\n",
       "      <th></th>\n",
       "      <th>transit_stations</th>\n",
       "      <th>date</th>\n",
       "      <th>stringency_index</th>\n",
       "      <th>transit_stations_scaled</th>\n",
       "      <th>defiance</th>\n",
       "    </tr>\n",
       "  </thead>\n",
       "  <tbody>\n",
       "    <tr>\n",
       "      <th>0</th>\n",
       "      <td>-1.429</td>\n",
       "      <td>2020-02-27</td>\n",
       "      <td>0.0556</td>\n",
       "      <td>0.992291</td>\n",
       "      <td>0.055171</td>\n",
       "    </tr>\n",
       "    <tr>\n",
       "      <th>1</th>\n",
       "      <td>-2.286</td>\n",
       "      <td>2020-02-28</td>\n",
       "      <td>0.0556</td>\n",
       "      <td>0.985684</td>\n",
       "      <td>0.054804</td>\n",
       "    </tr>\n",
       "    <tr>\n",
       "      <th>2</th>\n",
       "      <td>-4.143</td>\n",
       "      <td>2020-02-29</td>\n",
       "      <td>0.0556</td>\n",
       "      <td>0.971368</td>\n",
       "      <td>0.054008</td>\n",
       "    </tr>\n",
       "    <tr>\n",
       "      <th>3</th>\n",
       "      <td>-4.143</td>\n",
       "      <td>2020-03-01</td>\n",
       "      <td>0.0556</td>\n",
       "      <td>0.971368</td>\n",
       "      <td>0.054008</td>\n",
       "    </tr>\n",
       "    <tr>\n",
       "      <th>4</th>\n",
       "      <td>-3.714</td>\n",
       "      <td>2020-03-02</td>\n",
       "      <td>0.0556</td>\n",
       "      <td>0.974675</td>\n",
       "      <td>0.054192</td>\n",
       "    </tr>\n",
       "  </tbody>\n",
       "</table>\n",
       "</div>"
      ],
      "text/plain": [
       "   transit_stations       date  ...  transit_stations_scaled  defiance\n",
       "0            -1.429 2020-02-27  ...                 0.992291  0.055171\n",
       "1            -2.286 2020-02-28  ...                 0.985684  0.054804\n",
       "2            -4.143 2020-02-29  ...                 0.971368  0.054008\n",
       "3            -4.143 2020-03-01  ...                 0.971368  0.054008\n",
       "4            -3.714 2020-03-02  ...                 0.974675  0.054192\n",
       "\n",
       "[5 rows x 5 columns]"
      ]
     },
     "execution_count": 59,
     "metadata": {},
     "output_type": "execute_result"
    }
   ],
   "source": [
    "target = mobility[['Day', 'transit_stations']].merge(stringency[['date', 'stringency_index']], left_on = 'Day', right_on = 'date', how = 'inner').drop('Day', axis = 1)\n",
    "target['stringency_index'] = target['stringency_index']/100 # put on scale of 0 to 1, not 0 to 100\n",
    "target['transit_stations_scaled'] = (target['transit_stations'] - np.min(target['transit_stations'])) / (np.max(target['transit_stations']) - np.min(target['transit_stations']))/2 + 0.5 # scale mobility between 0 and 1\n",
    "target['defiance'] = target['stringency_index'] * target['transit_stations_scaled'] # combine the two metrics by multiplying, on the same scale of 0 to 1 (see README)\n",
    "target.head()"
   ]
  },
  {
   "cell_type": "markdown",
   "metadata": {},
   "source": [
    "**Visualizing and defining the target**"
   ]
  },
  {
   "cell_type": "code",
   "execution_count": 60,
   "metadata": {
    "collapsed": false,
    "jupyter": {
     "outputs_hidden": false
    }
   },
   "outputs": [
    {
     "data": {
      "text/plain": [
       "<AxesSubplot:xlabel='date'>"
      ]
     },
     "execution_count": 60,
     "metadata": {},
     "output_type": "execute_result"
    },
    {
     "data": {
      "image/png": "[encoded data removed]",
      "text/plain": [
       "<Figure size 432x288 with 1 Axes>"
      ]
     },
     "metadata": {},
     "output_type": "display_data"
    },
    {
     "data": {
      "image/png": "[encoded data removed]",
      "text/plain": [
       "<Figure size 432x288 with 1 Axes>"
      ]
     },
     "metadata": {},
     "output_type": "display_data"
    }
   ],
   "source": [
    "target.plot('date', ['stringency_index', 'transit_stations_scaled'])\n",
    "target.plot('date', 'defiance')"
   ]
  },
  {
   "cell_type": "markdown",
   "metadata": {},
   "source": [
    "Initially you get a big jump as people adjust to the new situation. This is a different period of behaviour to later in the pandemic, so let's start on the 13th March, when the first government measures to restrict in-person meetings were announced."
   ]
  },
  {
   "cell_type": "code",
   "execution_count": 61,
   "metadata": {
    "collapsed": false,
    "jupyter": {
     "outputs_hidden": false
    }
   },
   "outputs": [
    {
     "data": {
      "text/plain": [
       "<AxesSubplot:xlabel='date'>"
      ]
     },
     "execution_count": 61,
     "metadata": {},
     "output_type": "execute_result"
    },
    {
     "data": {
      "image/png": "[encoded data removed]",
      "text/plain": [
       "<Figure size 432x288 with 1 Axes>"
      ]
     },
     "metadata": {},
     "output_type": "display_data"
    }
   ],
   "source": [
    "target = target[target['date'] >= '2020-03-13']\n",
    "target.plot('date', 'defiance')"
   ]
  },
  {
   "cell_type": "code",
   "execution_count": 62,
   "metadata": {
    "collapsed": false,
    "jupyter": {
     "outputs_hidden": false
    }
   },
   "outputs": [],
   "source": [
    "# How can we spot when there is a spike? Compare the average of the defiance over the next 3 days to the current day (as a ratio) - if the ratio is high then there will be a sustained spike over the next 3 days\n",
    "\n",
    "target['defiance_change'] = pd.Series(target['defiance']).rolling(window = 3, min_periods = 1).mean().shift(-3) / target['defiance']"
   ]
  },
  {
   "cell_type": "code",
   "execution_count": 63,
   "metadata": {
    "collapsed": false,
    "jupyter": {
     "outputs_hidden": false
    }
   },
   "outputs": [
    {
     "data": {
      "text/plain": [
       "<matplotlib.lines.Line2D at 0x7ff4cd2fdb20>"
      ]
     },
     "execution_count": 63,
     "metadata": {},
     "output_type": "execute_result"
    },
    {
     "data": {
      "image/png": "[encoded data removed]",
      "text/plain": [
       "<Figure size 432x288 with 1 Axes>"
      ]
     },
     "metadata": {},
     "output_type": "display_data"
    },
    {
     "data": {
      "image/png": "[encoded data removed]",
      "text/plain": [
       "<Figure size 432x288 with 1 Axes>"
      ]
     },
     "metadata": {},
     "output_type": "display_data"
    }
   ],
   "source": [
    "target.plot('date', ['stringency_index', 'transit_stations_scaled'])\n",
    "target.plot('date', 'defiance_change')\n",
    "plt.axhline(y = 1, color = 'r', linestyle = '--')"
   ]
  },
  {
   "cell_type": "code",
   "execution_count": 64,
   "metadata": {
    "collapsed": false,
    "jupyter": {
     "outputs_hidden": false
    }
   },
   "outputs": [
    {
     "data": {
      "text/plain": [
       "[<matplotlib.lines.Line2D at 0x7ff4cc00e3a0>]"
      ]
     },
     "execution_count": 64,
     "metadata": {},
     "output_type": "execute_result"
    },
    {
     "data": {
      "image/png": "[encoded data removed]",
      "text/plain": [
       "<Figure size 432x288 with 1 Axes>"
      ]
     },
     "metadata": {},
     "output_type": "display_data"
    }
   ],
   "source": [
    "# cdf of defiance_change\n",
    "def cdf(x, plot=True, *args, **kwargs):\n",
    "    x, y = sorted(x), np.arange(len(x)) / len(x)\n",
    "    return plt.plot(x, y, *args, **kwargs) if plot else (x, y)\n",
    "\n",
    "cdf(target['defiance_change']) # to understand distribution of change"
   ]
  },
  {
   "cell_type": "code",
   "execution_count": 65,
   "metadata": {
    "collapsed": false,
    "jupyter": {
     "outputs_hidden": false
    }
   },
   "outputs": [
    {
     "data": {
      "text/plain": [
       "0.5329949238578681"
      ]
     },
     "execution_count": 65,
     "metadata": {},
     "output_type": "execute_result"
    }
   ],
   "source": [
    "sum(target['defiance_change'] >= 1)/target.shape[0] # % of days with defiance increasing on average in the next week - nicely balanced"
   ]
  },
  {
   "cell_type": "markdown",
   "metadata": {},
   "source": [
    "**Understanding Kaggle data set**"
   ]
  },
  {
   "cell_type": "code",
   "execution_count": 66,
   "metadata": {
    "collapsed": false,
    "jupyter": {
     "outputs_hidden": false
    }
   },
   "outputs": [
    {
     "data": {
      "text/plain": [
       "[<matplotlib.lines.Line2D at 0x7ff4cbd1eb80>]"
      ]
     },
     "execution_count": 66,
     "metadata": {},
     "output_type": "execute_result"
    },
    {
     "data": {
      "image/png": "[encoded data removed]",
      "text/plain": [
       "<Figure size 432x288 with 1 Axes>"
      ]
     },
     "metadata": {},
     "output_type": "display_data"
    }
   ],
   "source": [
    "# Number of posts over time\n",
    "\n",
    "plt.plot(df[['date', 'full_text']].groupby('date').agg('count'))"
   ]
  },
  {
   "cell_type": "code",
   "execution_count": 67,
   "metadata": {
    "collapsed": false,
    "jupyter": {
     "outputs_hidden": false
    }
   },
   "outputs": [],
   "source": [
    "# What are the posts about? Relevant topics include covid and travel words\n",
    "\n",
    "covid_key_words = ['covid', 'corona', 'virus', 'lockdown', 'pcr', 'cases', 'deaths', 'vaccine']\n",
    "travel_key_words = ['train', 'bus', 'car', 'tram', 'meet', 'journey', 'transport', 'drive']"
   ]
  },
  {
   "cell_type": "code",
   "execution_count": 68,
   "metadata": {
    "collapsed": false,
    "jupyter": {
     "outputs_hidden": false
    }
   },
   "outputs": [],
   "source": [
    "# Clean text of tweets to lower-case, remove punctuation (including e.g. COVID-19 to covid 19)\n",
    "\n",
    "df['text_translation_clean'] = df['text_translation'].str.replace('[^\\w\\s]',' ') # remove punctuation (may introduce double spaces but that doesn't matter for now)\n",
    "df['text_translation_clean'] = df['text_translation_clean'].str.lower()"
   ]
  },
  {
   "cell_type": "code",
   "execution_count": 69,
   "metadata": {
    "collapsed": false,
    "jupyter": {
     "outputs_hidden": false
    }
   },
   "outputs": [],
   "source": [
    "df['covid'] = df['text_translation_clean'].astype(str).apply(lambda x: any([k in x for k in covid_key_words]))\n",
    "df['travel'] = df['text_translation_clean'].astype(str).apply(lambda x: any([k in x for k in travel_key_words]))"
   ]
  },
  {
   "cell_type": "code",
   "execution_count": 70,
   "metadata": {
    "collapsed": false,
    "jupyter": {
     "outputs_hidden": false
    }
   },
   "outputs": [
    {
     "data": {
      "text/plain": [
       "<matplotlib.legend.Legend at 0x7ff4cd30a1f0>"
      ]
     },
     "execution_count": 70,
     "metadata": {},
     "output_type": "execute_result"
    },
    {
     "data": {
      "image/png": "[encoded data removed]",
      "text/plain": [
       "<Figure size 432x288 with 1 Axes>"
      ]
     },
     "metadata": {},
     "output_type": "display_data"
    }
   ],
   "source": [
    "plt.plot(df[df['covid']][['date', 'full_text']].groupby('date').agg('count'), label = 'covid')\n",
    "plt.plot(df[df['travel']][['date', 'full_text']].groupby('date').agg('count'), label = 'travel')\n",
    "plt.plot(df[['date', 'full_text']].groupby('date').agg('count'), linewidth = 0.2, color = 'black', label = 'all')\n",
    "plt.legend()"
   ]
  },
  {
   "cell_type": "code",
   "execution_count": 71,
   "metadata": {
    "collapsed": false,
    "jupyter": {
     "outputs_hidden": false
    }
   },
   "outputs": [
    {
     "name": "stdout",
     "output_type": "stream",
     "text": [
      "% of posts about Covid: 64.0%\n",
      "% of posts about Travel: 8.0%\n"
     ]
    }
   ],
   "source": [
    "# Most posts are about covid, a few are about travel:\n",
    "print('% of posts about Covid: ' + str(round(100 * sum(df['covid'])/df.shape[0], 0)) + '%')\n",
    "print('% of posts about Travel: ' + str(round(100 * sum(df['travel'])/df.shape[0], 0)) + '%')"
   ]
  },
  {
   "cell_type": "markdown",
   "metadata": {},
   "source": [
    "**Feature Engineering**"
   ]
  },
  {
   "cell_type": "code",
   "execution_count": 72,
   "metadata": {
    "collapsed": false,
    "jupyter": {
     "outputs_hidden": false
    }
   },
   "outputs": [],
   "source": [
    "# Daily volumes of posts, split by category\n",
    "\n",
    "daily_df = df.groupby(['date', 'weekday']).agg({'full_text': 'count',\n",
    "                                                'covid': 'sum',\n",
    "                                                'travel': 'sum',\n",
    "                                                })\\\n",
    "    .reset_index().rename(columns = {'full_text':'posts'})\n",
    "\n",
    "# We have to normalise covid and travel by the total number of posts, since this changes each day\n",
    "daily_df['covid'] = daily_df['covid'] / daily_df['posts']\n",
    "daily_df['travel'] = daily_df['travel'] / daily_df['posts']"
   ]
  },
  {
   "cell_type": "code",
   "execution_count": 73,
   "metadata": {
    "collapsed": false,
    "jupyter": {
     "outputs_hidden": false
    }
   },
   "outputs": [],
   "source": [
    "# Volumes from the previous week, again split by category\n",
    "\n",
    "daily_df['weekly_covid'] = pd.Series(daily_df['covid']).rolling(window = 7, min_periods = 1).sum()\n",
    "daily_df['weekly_travel'] = pd.Series(daily_df['travel']).rolling(window = 7, min_periods = 1).sum()"
   ]
  },
  {
   "cell_type": "code",
   "execution_count": 74,
   "metadata": {
    "collapsed": false,
    "jupyter": {
     "outputs_hidden": false
    }
   },
   "outputs": [],
   "source": [
    "# Daily trends: day-on-day change\n",
    "\n",
    "daily_df['covid_dod'] = daily_df['covid']/daily_df['covid'].shift(1)\n",
    "daily_df['travel_dod'] = daily_df['travel']/daily_df['travel'].shift(1)"
   ]
  },
  {
   "cell_type": "code",
   "execution_count": 75,
   "metadata": {
    "collapsed": false,
    "jupyter": {
     "outputs_hidden": false
    }
   },
   "outputs": [],
   "source": [
    "# Weekly trends: weekly_posts / (weekly_posts 7 days ago)\n",
    "\n",
    "daily_df['covid_wow'] = daily_df['weekly_covid']/daily_df['weekly_covid'].shift(7)\n",
    "daily_df['travel_wow'] = daily_df['weekly_travel']/daily_df['weekly_travel'].shift(7)"
   ]
  },
  {
   "cell_type": "code",
   "execution_count": 76,
   "metadata": {
    "collapsed": false,
    "jupyter": {
     "outputs_hidden": false
    }
   },
   "outputs": [],
   "source": [
    "# Seasonality: dummy variable for the weekend\n",
    "\n",
    "daily_df[['date', 'weekday']].head() # 22nd Jan 2020 was a Wednesday and weekday = 2, so weekend is weekday = 5 or 6\n",
    "daily_df['weekend'] = daily_df['weekday'].apply(lambda x: (x == 5) or (x == 6))"
   ]
  },
  {
   "cell_type": "code",
   "execution_count": 77,
   "metadata": {
    "collapsed": false,
    "jupyter": {
     "outputs_hidden": false
    }
   },
   "outputs": [],
   "source": [
    "# Sentiment / subjectivity\n",
    "\n",
    "sentiment_df = df.assign(covid_sentiment = df['covid'] * df['sentiment_pattern'],\n",
    "                         covid_subjectivity = df['covid'] * df['subjective_pattern'])\\\n",
    "    .groupby('date').agg({'covid_sentiment': ['mean', 'std'],\n",
    "                          'covid_subjectivity': ['mean']})\\\n",
    "    .reset_index()\n",
    "sentiment_df.columns = ['date', 'covid_sentiment_mean', 'covid_sentiment_std', 'covid_subjectivity_mean']\n",
    "\n",
    "daily_df = daily_df.merge(sentiment_df, on = 'date', how = 'inner')"
   ]
  },
  {
   "cell_type": "code",
   "execution_count": 78,
   "metadata": {
    "collapsed": false,
    "jupyter": {
     "outputs_hidden": false
    }
   },
   "outputs": [],
   "source": [
    "# Covid case and death numbers (also from Our World In Data)\n",
    "\n",
    "daily_df = daily_df.merge(stringency[['date', 'new_cases', 'new_deaths']], on = 'date', how = 'inner')"
   ]
  },
  {
   "cell_type": "code",
   "execution_count": 79,
   "metadata": {
    "collapsed": false,
    "jupyter": {
     "outputs_hidden": false
    }
   },
   "outputs": [
    {
     "data": {
      "text/html": [
       "<div>\n",
       "<style scoped>\n",
       "    .dataframe tbody tr th:only-of-type {\n",
       "        vertical-align: middle;\n",
       "    }\n",
       "\n",
       "    .dataframe tbody tr th {\n",
       "        vertical-align: top;\n",
       "    }\n",
       "\n",
       "    .dataframe thead th {\n",
       "        text-align: right;\n",
       "    }\n",
       "</style>\n",
       "<table border=\"1\" class=\"dataframe\">\n",
       "  <thead>\n",
       "    <tr style=\"text-align: right;\">\n",
       "      <th></th>\n",
       "      <th>date</th>\n",
       "      <th>weekday</th>\n",
       "      <th>posts</th>\n",
       "      <th>covid</th>\n",
       "      <th>travel</th>\n",
       "      <th>weekly_covid</th>\n",
       "      <th>weekly_travel</th>\n",
       "      <th>covid_dod</th>\n",
       "      <th>travel_dod</th>\n",
       "      <th>covid_wow</th>\n",
       "      <th>travel_wow</th>\n",
       "      <th>weekend</th>\n",
       "      <th>covid_sentiment_mean</th>\n",
       "      <th>covid_sentiment_std</th>\n",
       "      <th>covid_subjectivity_mean</th>\n",
       "      <th>new_cases</th>\n",
       "      <th>new_deaths</th>\n",
       "      <th>y</th>\n",
       "    </tr>\n",
       "  </thead>\n",
       "  <tbody>\n",
       "    <tr>\n",
       "      <th>0</th>\n",
       "      <td>2020-03-13</td>\n",
       "      <td>4.0</td>\n",
       "      <td>723</td>\n",
       "      <td>0.665284</td>\n",
       "      <td>0.065007</td>\n",
       "      <td>4.682885</td>\n",
       "      <td>0.558237</td>\n",
       "      <td>1.061314</td>\n",
       "      <td>0.696842</td>\n",
       "      <td>0.908342</td>\n",
       "      <td>1.233544</td>\n",
       "      <td>False</td>\n",
       "      <td>0.034307</td>\n",
       "      <td>0.224276</td>\n",
       "      <td>0.255620</td>\n",
       "      <td>155.0</td>\n",
       "      <td>5.0</td>\n",
       "      <td>False</td>\n",
       "    </tr>\n",
       "    <tr>\n",
       "      <th>1</th>\n",
       "      <td>2020-03-14</td>\n",
       "      <td>5.0</td>\n",
       "      <td>285</td>\n",
       "      <td>0.614035</td>\n",
       "      <td>0.084211</td>\n",
       "      <td>4.605231</td>\n",
       "      <td>0.551295</td>\n",
       "      <td>0.922968</td>\n",
       "      <td>1.295409</td>\n",
       "      <td>0.905717</td>\n",
       "      <td>1.140750</td>\n",
       "      <td>True</td>\n",
       "      <td>0.044122</td>\n",
       "      <td>0.216816</td>\n",
       "      <td>0.247249</td>\n",
       "      <td>176.0</td>\n",
       "      <td>2.0</td>\n",
       "      <td>False</td>\n",
       "    </tr>\n",
       "    <tr>\n",
       "      <th>2</th>\n",
       "      <td>2020-03-15</td>\n",
       "      <td>6.0</td>\n",
       "      <td>843</td>\n",
       "      <td>0.581257</td>\n",
       "      <td>0.066429</td>\n",
       "      <td>4.474367</td>\n",
       "      <td>0.548027</td>\n",
       "      <td>0.946619</td>\n",
       "      <td>0.788849</td>\n",
       "      <td>0.884091</td>\n",
       "      <td>1.127059</td>\n",
       "      <td>True</td>\n",
       "      <td>0.042261</td>\n",
       "      <td>0.195810</td>\n",
       "      <td>0.243667</td>\n",
       "      <td>278.0</td>\n",
       "      <td>8.0</td>\n",
       "      <td>True</td>\n",
       "    </tr>\n",
       "    <tr>\n",
       "      <th>3</th>\n",
       "      <td>2020-03-16</td>\n",
       "      <td>0.0</td>\n",
       "      <td>1401</td>\n",
       "      <td>0.645253</td>\n",
       "      <td>0.097787</td>\n",
       "      <td>4.439273</td>\n",
       "      <td>0.551287</td>\n",
       "      <td>1.110099</td>\n",
       "      <td>1.472048</td>\n",
       "      <td>0.879069</td>\n",
       "      <td>1.087998</td>\n",
       "      <td>False</td>\n",
       "      <td>0.050879</td>\n",
       "      <td>0.231782</td>\n",
       "      <td>0.261242</td>\n",
       "      <td>292.0</td>\n",
       "      <td>4.0</td>\n",
       "      <td>False</td>\n",
       "    </tr>\n",
       "    <tr>\n",
       "      <th>4</th>\n",
       "      <td>2020-03-17</td>\n",
       "      <td>1.0</td>\n",
       "      <td>778</td>\n",
       "      <td>0.595116</td>\n",
       "      <td>0.105398</td>\n",
       "      <td>4.386590</td>\n",
       "      <td>0.579417</td>\n",
       "      <td>0.922298</td>\n",
       "      <td>1.077834</td>\n",
       "      <td>0.890039</td>\n",
       "      <td>1.080300</td>\n",
       "      <td>False</td>\n",
       "      <td>0.032948</td>\n",
       "      <td>0.216989</td>\n",
       "      <td>0.257675</td>\n",
       "      <td>346.0</td>\n",
       "      <td>19.0</td>\n",
       "      <td>False</td>\n",
       "    </tr>\n",
       "  </tbody>\n",
       "</table>\n",
       "</div>"
      ],
      "text/plain": [
       "        date  weekday  posts  ...  new_cases  new_deaths      y\n",
       "0 2020-03-13      4.0    723  ...      155.0         5.0  False\n",
       "1 2020-03-14      5.0    285  ...      176.0         2.0  False\n",
       "2 2020-03-15      6.0    843  ...      278.0         8.0   True\n",
       "3 2020-03-16      0.0   1401  ...      292.0         4.0  False\n",
       "4 2020-03-17      1.0    778  ...      346.0        19.0  False\n",
       "\n",
       "[5 rows x 18 columns]"
      ]
     },
     "execution_count": 79,
     "metadata": {},
     "output_type": "execute_result"
    }
   ],
   "source": [
    "# Add target\n",
    "\n",
    "target['y'] = target['defiance_change'] > 1\n",
    "daily_df = daily_df.merge(target[['date', 'y']], on = 'date', how = 'inner')\n",
    "daily_df.head()"
   ]
  },
  {
   "cell_type": "code",
   "execution_count": 80,
   "metadata": {
    "collapsed": false,
    "jupyter": {
     "outputs_hidden": false
    }
   },
   "outputs": [
    {
     "name": "stdout",
     "output_type": "stream",
     "text": [
      "<class 'pandas.core.frame.DataFrame'>\n",
      "Int64Index: 160 entries, 0 to 159\n",
      "Data columns (total 18 columns):\n",
      " #   Column                   Non-Null Count  Dtype         \n",
      "---  ------                   --------------  -----         \n",
      " 0   date                     160 non-null    datetime64[ns]\n",
      " 1   weekday                  160 non-null    float64       \n",
      " 2   posts                    160 non-null    int64         \n",
      " 3   covid                    160 non-null    float64       \n",
      " 4   travel                   160 non-null    float64       \n",
      " 5   weekly_covid             160 non-null    float64       \n",
      " 6   weekly_travel            160 non-null    float64       \n",
      " 7   covid_dod                160 non-null    float64       \n",
      " 8   travel_dod               160 non-null    float64       \n",
      " 9   covid_wow                160 non-null    float64       \n",
      " 10  travel_wow               160 non-null    float64       \n",
      " 11  weekend                  160 non-null    bool          \n",
      " 12  covid_sentiment_mean     160 non-null    float64       \n",
      " 13  covid_sentiment_std      160 non-null    float64       \n",
      " 14  covid_subjectivity_mean  160 non-null    float64       \n",
      " 15  new_cases                160 non-null    float64       \n",
      " 16  new_deaths               159 non-null    float64       \n",
      " 17  y                        160 non-null    bool          \n",
      "dtypes: bool(2), datetime64[ns](1), float64(14), int64(1)\n",
      "memory usage: 21.6 KB\n"
     ]
    }
   ],
   "source": [
    "daily_df.info()"
   ]
  },
  {
   "cell_type": "code",
   "execution_count": 81,
   "metadata": {
    "collapsed": false,
    "jupyter": {
     "outputs_hidden": false
    }
   },
   "outputs": [
    {
     "data": {
      "text/html": [
       "<div>\n",
       "<style scoped>\n",
       "    .dataframe tbody tr th:only-of-type {\n",
       "        vertical-align: middle;\n",
       "    }\n",
       "\n",
       "    .dataframe tbody tr th {\n",
       "        vertical-align: top;\n",
       "    }\n",
       "\n",
       "    .dataframe thead th {\n",
       "        text-align: right;\n",
       "    }\n",
       "</style>\n",
       "<table border=\"1\" class=\"dataframe\">\n",
       "  <thead>\n",
       "    <tr style=\"text-align: right;\">\n",
       "      <th></th>\n",
       "      <th>weekday</th>\n",
       "      <th>posts</th>\n",
       "      <th>covid</th>\n",
       "      <th>travel</th>\n",
       "      <th>weekly_covid</th>\n",
       "      <th>weekly_travel</th>\n",
       "      <th>covid_dod</th>\n",
       "      <th>travel_dod</th>\n",
       "      <th>covid_wow</th>\n",
       "      <th>travel_wow</th>\n",
       "      <th>covid_sentiment_mean</th>\n",
       "      <th>covid_sentiment_std</th>\n",
       "      <th>covid_subjectivity_mean</th>\n",
       "      <th>new_cases</th>\n",
       "      <th>new_deaths</th>\n",
       "    </tr>\n",
       "  </thead>\n",
       "  <tbody>\n",
       "    <tr>\n",
       "      <th>count</th>\n",
       "      <td>160.000000</td>\n",
       "      <td>160.00000</td>\n",
       "      <td>160.000000</td>\n",
       "      <td>160.000000</td>\n",
       "      <td>160.000000</td>\n",
       "      <td>160.000000</td>\n",
       "      <td>160.000000</td>\n",
       "      <td>160.000000</td>\n",
       "      <td>160.000000</td>\n",
       "      <td>160.000000</td>\n",
       "      <td>160.000000</td>\n",
       "      <td>160.000000</td>\n",
       "      <td>160.000000</td>\n",
       "      <td>160.000000</td>\n",
       "      <td>159.000000</td>\n",
       "    </tr>\n",
       "    <tr>\n",
       "      <th>mean</th>\n",
       "      <td>3.006250</td>\n",
       "      <td>1435.67500</td>\n",
       "      <td>0.623013</td>\n",
       "      <td>0.077434</td>\n",
       "      <td>4.361114</td>\n",
       "      <td>0.542842</td>\n",
       "      <td>1.008766</td>\n",
       "      <td>inf</td>\n",
       "      <td>0.999436</td>\n",
       "      <td>1.013398</td>\n",
       "      <td>0.025857</td>\n",
       "      <td>0.214323</td>\n",
       "      <td>0.246993</td>\n",
       "      <td>586.650000</td>\n",
       "      <td>36.031447</td>\n",
       "    </tr>\n",
       "    <tr>\n",
       "      <th>std</th>\n",
       "      <td>2.001562</td>\n",
       "      <td>1343.71378</td>\n",
       "      <td>0.063572</td>\n",
       "      <td>0.025070</td>\n",
       "      <td>0.259051</td>\n",
       "      <td>0.078545</td>\n",
       "      <td>0.131053</td>\n",
       "      <td>NaN</td>\n",
       "      <td>0.064800</td>\n",
       "      <td>0.174249</td>\n",
       "      <td>0.014386</td>\n",
       "      <td>0.022716</td>\n",
       "      <td>0.035530</td>\n",
       "      <td>546.788488</td>\n",
       "      <td>52.009057</td>\n",
       "    </tr>\n",
       "    <tr>\n",
       "      <th>min</th>\n",
       "      <td>0.000000</td>\n",
       "      <td>30.00000</td>\n",
       "      <td>0.366667</td>\n",
       "      <td>0.000000</td>\n",
       "      <td>3.706208</td>\n",
       "      <td>0.402456</td>\n",
       "      <td>0.609901</td>\n",
       "      <td>0.000000</td>\n",
       "      <td>0.849898</td>\n",
       "      <td>0.711278</td>\n",
       "      <td>-0.014139</td>\n",
       "      <td>0.135657</td>\n",
       "      <td>0.107717</td>\n",
       "      <td>36.000000</td>\n",
       "      <td>0.000000</td>\n",
       "    </tr>\n",
       "    <tr>\n",
       "      <th>25%</th>\n",
       "      <td>1.000000</td>\n",
       "      <td>481.00000</td>\n",
       "      <td>0.591517</td>\n",
       "      <td>0.063842</td>\n",
       "      <td>4.152592</td>\n",
       "      <td>0.481008</td>\n",
       "      <td>0.937362</td>\n",
       "      <td>0.809460</td>\n",
       "      <td>0.946029</td>\n",
       "      <td>0.865508</td>\n",
       "      <td>0.017963</td>\n",
       "      <td>0.204570</td>\n",
       "      <td>0.231343</td>\n",
       "      <td>175.000000</td>\n",
       "      <td>2.000000</td>\n",
       "    </tr>\n",
       "    <tr>\n",
       "      <th>50%</th>\n",
       "      <td>3.000000</td>\n",
       "      <td>1043.50000</td>\n",
       "      <td>0.634456</td>\n",
       "      <td>0.076725</td>\n",
       "      <td>4.421629</td>\n",
       "      <td>0.526232</td>\n",
       "      <td>0.994464</td>\n",
       "      <td>0.963963</td>\n",
       "      <td>1.005870</td>\n",
       "      <td>0.976750</td>\n",
       "      <td>0.025314</td>\n",
       "      <td>0.216213</td>\n",
       "      <td>0.248378</td>\n",
       "      <td>476.500000</td>\n",
       "      <td>8.000000</td>\n",
       "    </tr>\n",
       "    <tr>\n",
       "      <th>75%</th>\n",
       "      <td>5.000000</td>\n",
       "      <td>1897.00000</td>\n",
       "      <td>0.669215</td>\n",
       "      <td>0.089390</td>\n",
       "      <td>4.576191</td>\n",
       "      <td>0.601529</td>\n",
       "      <td>1.066640</td>\n",
       "      <td>1.200588</td>\n",
       "      <td>1.043062</td>\n",
       "      <td>1.146490</td>\n",
       "      <td>0.034755</td>\n",
       "      <td>0.225746</td>\n",
       "      <td>0.266594</td>\n",
       "      <td>846.750000</td>\n",
       "      <td>53.000000</td>\n",
       "    </tr>\n",
       "    <tr>\n",
       "      <th>max</th>\n",
       "      <td>6.000000</td>\n",
       "      <td>7694.00000</td>\n",
       "      <td>0.750789</td>\n",
       "      <td>0.202255</td>\n",
       "      <td>4.841075</td>\n",
       "      <td>0.728364</td>\n",
       "      <td>1.670455</td>\n",
       "      <td>inf</td>\n",
       "      <td>1.140006</td>\n",
       "      <td>1.511128</td>\n",
       "      <td>0.069643</td>\n",
       "      <td>0.281284</td>\n",
       "      <td>0.342539</td>\n",
       "      <td>2779.000000</td>\n",
       "      <td>234.000000</td>\n",
       "    </tr>\n",
       "  </tbody>\n",
       "</table>\n",
       "</div>"
      ],
      "text/plain": [
       "          weekday       posts  ...    new_cases  new_deaths\n",
       "count  160.000000   160.00000  ...   160.000000  159.000000\n",
       "mean     3.006250  1435.67500  ...   586.650000   36.031447\n",
       "std      2.001562  1343.71378  ...   546.788488   52.009057\n",
       "min      0.000000    30.00000  ...    36.000000    0.000000\n",
       "25%      1.000000   481.00000  ...   175.000000    2.000000\n",
       "50%      3.000000  1043.50000  ...   476.500000    8.000000\n",
       "75%      5.000000  1897.00000  ...   846.750000   53.000000\n",
       "max      6.000000  7694.00000  ...  2779.000000  234.000000\n",
       "\n",
       "[8 rows x 15 columns]"
      ]
     },
     "execution_count": 81,
     "metadata": {},
     "output_type": "execute_result"
    }
   ],
   "source": [
    "daily_df.describe()"
   ]
  },
  {
   "cell_type": "markdown",
   "metadata": {},
   "source": [
    "Took inner merges to ensure no NAs, but there is still one row with no deaths, and one with inf travel_dod (since previous day had zero travel)"
   ]
  },
  {
   "cell_type": "code",
   "execution_count": 82,
   "metadata": {
    "collapsed": false,
    "jupyter": {
     "outputs_hidden": false
    }
   },
   "outputs": [],
   "source": [
    "daily_df['new_deaths'].fillna(0, inplace = True) # fill with 0\n",
    "daily_df.replace(np.inf, np.ma.masked_invalid(daily_df['travel_wow']).mean(), inplace = True) # fill with mean of rest of column"
   ]
  },
  {
   "cell_type": "markdown",
   "metadata": {},
   "source": [
    "**Train/test split**\n",
    "\n",
    "When analysing features, only want to use the train set, so split here.\n",
    "\n",
    "Not enough data to use a validation set (see READ ME)."
   ]
  },
  {
   "cell_type": "code",
   "execution_count": 84,
   "metadata": {
    "collapsed": false,
    "jupyter": {
     "outputs_hidden": false
    }
   },
   "outputs": [],
   "source": [
    "train_rows = np.floor(daily_df.shape[0] * 0.75)\n",
    "test_rows = daily_df.shape[0] - train_rows\n",
    "\n",
    "daily_df['train_test'] = ['train'] * int(train_rows) + ['test'] * int(test_rows)"
   ]
  },
  {
   "cell_type": "markdown",
   "metadata": {},
   "source": [
    "**Feature Analysis**"
   ]
  },
  {
   "cell_type": "code",
   "execution_count": 85,
   "metadata": {
    "collapsed": false,
    "jupyter": {
     "outputs_hidden": false
    }
   },
   "outputs": [],
   "source": [
    "analysis_df = daily_df[daily_df['train_test'] == 'train'].drop(['date', 'weekday', 'posts', 'train_test'], axis = 1) # posts and weekday aren't features we will use"
   ]
  },
  {
   "cell_type": "code",
   "execution_count": 86,
   "metadata": {
    "collapsed": false,
    "jupyter": {
     "outputs_hidden": false
    }
   },
   "outputs": [
    {
     "data": {
      "image/png": "[encoded data removed]",
      "text/plain": [
       "<Figure size 432x288 with 2 Axes>"
      ]
     },
     "metadata": {},
     "output_type": "display_data"
    }
   ],
   "source": [
    "# Feature correlation heatmap:\n",
    "\n",
    "plt.rcParams['axes.facecolor'] = 'white'\n",
    "\n",
    "corr_matrix = analysis_df.corr(method = 'spearman').round(2)\n",
    "mask = np.triu(np.ones_like(corr_matrix, dtype = bool))\n",
    "sns.heatmap(corr_matrix, annot = True, vmax = 1, vmin = -1, center = 0, cmap = 'coolwarm', mask = mask)\n",
    "plt.show()"
   ]
  },
  {
   "cell_type": "code",
   "execution_count": 87,
   "metadata": {
    "collapsed": false,
    "jupyter": {
     "outputs_hidden": false
    }
   },
   "outputs": [],
   "source": [
    "# Change feature selected here to analyse different features\n",
    "\n",
    "feature = 'new_deaths'"
   ]
  },
  {
   "cell_type": "code",
   "execution_count": 88,
   "metadata": {
    "collapsed": false,
    "jupyter": {
     "outputs_hidden": false
    }
   },
   "outputs": [
    {
     "data": {
      "text/html": [
       "<div>\n",
       "<style scoped>\n",
       "    .dataframe tbody tr th:only-of-type {\n",
       "        vertical-align: middle;\n",
       "    }\n",
       "\n",
       "    .dataframe tbody tr th {\n",
       "        vertical-align: top;\n",
       "    }\n",
       "\n",
       "    .dataframe thead th {\n",
       "        text-align: right;\n",
       "    }\n",
       "</style>\n",
       "<table border=\"1\" class=\"dataframe\">\n",
       "  <thead>\n",
       "    <tr style=\"text-align: right;\">\n",
       "      <th></th>\n",
       "      <th>level_0</th>\n",
       "      <th>level_1</th>\n",
       "      <th>0</th>\n",
       "    </tr>\n",
       "  </thead>\n",
       "  <tbody>\n",
       "    <tr>\n",
       "      <th>18</th>\n",
       "      <td>new_deaths</td>\n",
       "      <td>new_cases</td>\n",
       "      <td>0.74</td>\n",
       "    </tr>\n",
       "    <tr>\n",
       "      <th>40</th>\n",
       "      <td>new_deaths</td>\n",
       "      <td>weekly_travel</td>\n",
       "      <td>0.25</td>\n",
       "    </tr>\n",
       "    <tr>\n",
       "      <th>47</th>\n",
       "      <td>new_deaths</td>\n",
       "      <td>travel</td>\n",
       "      <td>0.19</td>\n",
       "    </tr>\n",
       "    <tr>\n",
       "      <th>72</th>\n",
       "      <td>new_deaths</td>\n",
       "      <td>covid_sentiment_mean</td>\n",
       "      <td>0.11</td>\n",
       "    </tr>\n",
       "    <tr>\n",
       "      <th>80</th>\n",
       "      <td>new_deaths</td>\n",
       "      <td>covid_wow</td>\n",
       "      <td>0.08</td>\n",
       "    </tr>\n",
       "    <tr>\n",
       "      <th>111</th>\n",
       "      <td>new_deaths</td>\n",
       "      <td>y</td>\n",
       "      <td>0.02</td>\n",
       "    </tr>\n",
       "    <tr>\n",
       "      <th>133</th>\n",
       "      <td>new_deaths</td>\n",
       "      <td>travel_wow</td>\n",
       "      <td>-0.01</td>\n",
       "    </tr>\n",
       "    <tr>\n",
       "      <th>150</th>\n",
       "      <td>new_deaths</td>\n",
       "      <td>covid_dod</td>\n",
       "      <td>-0.05</td>\n",
       "    </tr>\n",
       "    <tr>\n",
       "      <th>174</th>\n",
       "      <td>new_deaths</td>\n",
       "      <td>travel_dod</td>\n",
       "      <td>-0.09</td>\n",
       "    </tr>\n",
       "    <tr>\n",
       "      <th>190</th>\n",
       "      <td>new_deaths</td>\n",
       "      <td>weekend</td>\n",
       "      <td>-0.11</td>\n",
       "    </tr>\n",
       "    <tr>\n",
       "      <th>201</th>\n",
       "      <td>new_deaths</td>\n",
       "      <td>covid_sentiment_std</td>\n",
       "      <td>-0.17</td>\n",
       "    </tr>\n",
       "    <tr>\n",
       "      <th>215</th>\n",
       "      <td>new_deaths</td>\n",
       "      <td>covid_subjectivity_mean</td>\n",
       "      <td>-0.32</td>\n",
       "    </tr>\n",
       "    <tr>\n",
       "      <th>217</th>\n",
       "      <td>new_deaths</td>\n",
       "      <td>covid</td>\n",
       "      <td>-0.41</td>\n",
       "    </tr>\n",
       "    <tr>\n",
       "      <th>221</th>\n",
       "      <td>new_deaths</td>\n",
       "      <td>weekly_covid</td>\n",
       "      <td>-0.63</td>\n",
       "    </tr>\n",
       "  </tbody>\n",
       "</table>\n",
       "</div>"
      ],
      "text/plain": [
       "        level_0                  level_1     0\n",
       "18   new_deaths                new_cases  0.74\n",
       "40   new_deaths            weekly_travel  0.25\n",
       "47   new_deaths                   travel  0.19\n",
       "72   new_deaths     covid_sentiment_mean  0.11\n",
       "80   new_deaths                covid_wow  0.08\n",
       "111  new_deaths                        y  0.02\n",
       "133  new_deaths               travel_wow -0.01\n",
       "150  new_deaths                covid_dod -0.05\n",
       "174  new_deaths               travel_dod -0.09\n",
       "190  new_deaths                  weekend -0.11\n",
       "201  new_deaths      covid_sentiment_std -0.17\n",
       "215  new_deaths  covid_subjectivity_mean -0.32\n",
       "217  new_deaths                    covid -0.41\n",
       "221  new_deaths             weekly_covid -0.63"
      ]
     },
     "execution_count": 88,
     "metadata": {},
     "output_type": "execute_result"
    }
   ],
   "source": [
    "sorted_mat = corr_matrix.unstack().sort_values(ascending = False)\n",
    "sorted_df = pd.DataFrame(sorted_mat).reset_index()\n",
    "sorted_df[(sorted_df['level_0'] == feature) & (sorted_df['level_1'] != feature)] # correlated features"
   ]
  },
  {
   "cell_type": "code",
   "execution_count": 89,
   "metadata": {
    "collapsed": false,
    "jupyter": {
     "outputs_hidden": false
    }
   },
   "outputs": [
    {
     "data": {
      "text/plain": [
       "<AxesSubplot:xlabel='y', ylabel='new_deaths'>"
      ]
     },
     "execution_count": 89,
     "metadata": {},
     "output_type": "execute_result"
    },
    {
     "data": {
      "image/png": "[encoded data removed]",
      "text/plain": [
       "<Figure size 432x288 with 1 Axes>"
      ]
     },
     "metadata": {},
     "output_type": "display_data"
    }
   ],
   "source": [
    "# View distribution by y:\n",
    "\n",
    "sns.boxplot(x = 'y', y = feature, data = analysis_df)"
   ]
  },
  {
   "cell_type": "code",
   "execution_count": 90,
   "metadata": {
    "collapsed": false,
    "jupyter": {
     "outputs_hidden": false
    }
   },
   "outputs": [
    {
     "data": {
      "image/png": "[encoded data removed]",
      "text/plain": [
       "<Figure size 432x288 with 1 Axes>"
      ]
     },
     "metadata": {},
     "output_type": "display_data"
    }
   ],
   "source": [
    "# Group feature values and summarise target for each:\n",
    "\n",
    "cuts = 5\n",
    "\n",
    "df_ntile = analysis_df[[feature, 'y']]\n",
    "df_ntile['ntile'] = pd.qcut(df_ntile[feature], q = cuts, labels = range(1, cuts + 1)) # split into tiles by group\n",
    "\n",
    "df_ntile = df_ntile.groupby('ntile').agg({'y': np.mean}).reset_index()\n",
    "plt.plot([x for x in range(1,(cuts+1))], df_ntile['y'], linestyle = 'solid', marker = 'x')\n",
    "plt.xticks(np.arange(1, cuts + 1, 1.0))\n",
    "plt.title(feature)\n",
    "plt.xlabel('Feature Quintile')\n",
    "plt.ylabel('% of y = 1')\n",
    "plt.show()"
   ]
  },
  {
   "cell_type": "markdown",
   "metadata": {},
   "source": [
    "**Feature Selection**"
   ]
  },
  {
   "cell_type": "code",
   "execution_count": 91,
   "metadata": {
    "collapsed": false,
    "jupyter": {
     "outputs_hidden": false
    }
   },
   "outputs": [],
   "source": [
    "daily_df['weekend'] = np.where(daily_df['weekend'], 1, 0) # for xgboost model"
   ]
  },
  {
   "cell_type": "code",
   "execution_count": 92,
   "metadata": {
    "collapsed": false,
    "jupyter": {
     "outputs_hidden": false
    }
   },
   "outputs": [],
   "source": [
    "# Comment in/out lines to include features in the model\n",
    "# Features are based off analysis, but adjusted to reduce overfit / depending on feature importance in the model\n",
    "\n",
    "features = [\n",
    "    'covid',\n",
    "    'travel',\n",
    "\n",
    "    # 'weekly_covid',\n",
    "    # 'weekly_travel',\n",
    "\n",
    "    # 'covid_dod',\n",
    "    # 'travel_dod',\n",
    "\n",
    "    # 'covid_wow',\n",
    "    'travel_wow',\n",
    "\n",
    "    # 'weekend',\n",
    "\n",
    "    # 'covid_sentiment_mean',\n",
    "    # 'covid_sentiment_std',\n",
    "    # 'covid_subjectivity_mean',\n",
    "\n",
    "    # 'new_cases',\n",
    "    'new_deaths'\n",
    "]"
   ]
  },
  {
   "cell_type": "markdown",
   "metadata": {},
   "source": [
    "**Modelling**"
   ]
  },
  {
   "cell_type": "code",
   "execution_count": 93,
   "metadata": {
    "collapsed": false,
    "jupyter": {
     "outputs_hidden": false
    }
   },
   "outputs": [],
   "source": [
    "# Split features and target\n",
    "\n",
    "X = daily_df[features]\n",
    "y = daily_df['y']"
   ]
  },
  {
   "cell_type": "code",
   "execution_count": 94,
   "metadata": {
    "collapsed": false,
    "jupyter": {
     "outputs_hidden": false
    }
   },
   "outputs": [],
   "source": [
    "# Split into train and test\n",
    "\n",
    "X_train, X_test = X[daily_df['train_test'] == 'train'], X[daily_df['train_test'] == 'test']\n",
    "y_train, y_test = y[daily_df['train_test'] == 'train'], y[daily_df['train_test'] == 'test']"
   ]
  },
  {
   "cell_type": "code",
   "execution_count": 95,
   "metadata": {
    "collapsed": false,
    "jupyter": {
     "outputs_hidden": false
    }
   },
   "outputs": [
    {
     "data": {
      "text/plain": [
       "array([ True, False,  True,  True, False, False, False, False,  True,\n",
       "       False, False,  True, False,  True,  True,  True,  True,  True,\n",
       "       False,  True,  True, False,  True, False,  True,  True, False,\n",
       "       False,  True,  True,  True,  True,  True,  True,  True, False,\n",
       "        True, False, False, False])"
      ]
     },
     "execution_count": 95,
     "metadata": {},
     "output_type": "execute_result"
    }
   ],
   "source": [
    "# Fit model\n",
    "\n",
    "# Parameters are based off grid search, but adjusted to reduce overfit\n",
    "np.random.seed(123)\n",
    "\n",
    "model = KNeighborsClassifier()\n",
    "model.fit(X = X_train, y = y_train)\n",
    "\n",
    "y_pred = model.predict(X_test)\n",
    "y_pred"
   ]
  },
  {
   "cell_type": "code",
   "execution_count": 96,
   "metadata": {
    "collapsed": false,
    "jupyter": {
     "outputs_hidden": false
    }
   },
   "outputs": [
    {
     "name": "stdout",
     "output_type": "stream",
     "text": [
      "Train:\n",
      "[[39 18]\n",
      " [16 47]]\n",
      "Accuracy = 71.7%\n",
      "Recall = 74.6%\n",
      "Precision = 72.3%\n"
     ]
    }
   ],
   "source": [
    "y_pred_train = model.predict(X_train)\n",
    "\n",
    "confusion_matrix_train = metrics.confusion_matrix(y_train, y_pred_train)\n",
    "\n",
    "print('Train:')\n",
    "print(confusion_matrix_train)\n",
    "print('Accuracy = ' + str(round(100 * metrics.accuracy_score(y_train, y_pred_train), 1)) + '%')\n",
    "print('Recall = ' + str(round(100 * metrics.recall_score(y_train, y_pred_train), 1)) + '%')\n",
    "print('Precision = ' + str(round(100 * metrics.precision_score(y_train, y_pred_train), 1)) + '%')"
   ]
  },
  {
   "cell_type": "code",
   "execution_count": 97,
   "metadata": {
    "collapsed": false,
    "jupyter": {
     "outputs_hidden": false
    }
   },
   "outputs": [
    {
     "name": "stdout",
     "output_type": "stream",
     "text": [
      "Test:\n",
      "[[ 6  8]\n",
      " [11 15]]\n",
      "\n",
      "Accuracy = 52.5%\n",
      "\n",
      "Recall = 57.7%\n",
      "\n",
      "Precision = 65.2%\n"
     ]
    }
   ],
   "source": [
    "confusion_matrix_test = metrics.confusion_matrix(y_test, y_pred)\n",
    "\n",
    "print('Test:')\n",
    "print(confusion_matrix_test)\n",
    "print('\\nAccuracy = ' + str(round(100 * metrics.accuracy_score(y_test, y_pred), 1)) + '%')\n",
    "print('\\nRecall = ' + str(round(100 * metrics.recall_score(y_test, y_pred), 1)) + '%')\n",
    "print('\\nPrecision = ' + str(round(100 * metrics.precision_score(y_test, y_pred), 1)) + '%')"
   ]
  },
  {
   "cell_type": "markdown",
   "metadata": {},
   "source": [
    "**Feature Importance**\n",
    "\n",
    "Can also be used for feature selection"
   ]
  },
  {
   "cell_type": "code",
   "execution_count": 98,
   "metadata": {
    "collapsed": false,
    "jupyter": {
     "outputs_hidden": false
    }
   },
   "outputs": [
    {
     "data": {
      "text/plain": [
       "Text(0.5, 1.0, 'feature importance')"
      ]
     },
     "execution_count": 98,
     "metadata": {},
     "output_type": "execute_result"
    },
    {
     "data": {
      "image/png": "[encoded data removed]",
      "text/plain": [
       "<Figure size 432x288 with 1 Axes>"
      ]
     },
     "metadata": {},
     "output_type": "display_data"
    }
   ],
   "source": [
    "feature_importance = permutation_importance(model, X_train, y_train, n_repeats = 20, random_state = 123).importances_mean\n",
    "feature_importance_df = pd.DataFrame({'feature': features,\n",
    "                                      'importance': feature_importance})\\\n",
    "    .sort_values('importance', ascending = False)\n",
    "\n",
    "sns.barplot(x = 'importance', y = 'feature', data = feature_importance_df).set_title('feature importance')"
   ]
  },
  {
   "cell_type": "code",
   "execution_count": null,
   "metadata": {},
   "outputs": [],
   "source": []
  }
 ],
 "metadata": {
  "kernelspec": {
   "display_name": "Python 3 (Spyder)",
   "language": "python3",
   "name": "python3"
  },
  "language_info": {
   "codemirror_mode": {
    "name": "ipython",
    "version": 3
   },
   "file_extension": ".py",
   "mimetype": "text/x-python",
   "name": "python",
   "nbconvert_exporter": "python",
   "pygments_lexer": "ipython3",
   "version": "3.8.5"
  }
 },
 "nbformat": 4,
 "nbformat_minor": 4
}
